{
 "cells": [
  {
   "cell_type": "code",
   "execution_count": null,
   "id": "d8a574ca",
   "metadata": {},
   "outputs": [],
   "source": [
    "#linear regresion"
   ]
  },
  {
   "cell_type": "code",
   "execution_count": null,
   "id": "accaad03",
   "metadata": {},
   "outputs": [],
   "source": [
    "#importing libraries"
   ]
  },
  {
   "cell_type": "code",
   "execution_count": 21,
   "id": "d144edcd",
   "metadata": {},
   "outputs": [],
   "source": [
    "import warnings\n",
    "warnings.simplefilter('ignore')"
   ]
  },
  {
   "cell_type": "code",
   "execution_count": 22,
   "id": "9fe1f36b",
   "metadata": {},
   "outputs": [],
   "source": [
    "import pandas as pd\n",
    "import numpy as np\n",
    "import matplotlib.pyplot as plt"
   ]
  },
  {
   "cell_type": "code",
   "execution_count": 23,
   "id": "c126d35d",
   "metadata": {},
   "outputs": [],
   "source": [
    "#importing dataset"
   ]
  },
  {
   "cell_type": "code",
   "execution_count": 24,
   "id": "a65aff26",
   "metadata": {},
   "outputs": [],
   "source": [
    "AI_Stock=pd.read_csv('AAPL.csv.crdownload')"
   ]
  },
  {
   "cell_type": "code",
   "execution_count": 25,
   "id": "4ec9b182",
   "metadata": {},
   "outputs": [
    {
     "data": {
      "text/html": [
       "<div>\n",
       "<style scoped>\n",
       "    .dataframe tbody tr th:only-of-type {\n",
       "        vertical-align: middle;\n",
       "    }\n",
       "\n",
       "    .dataframe tbody tr th {\n",
       "        vertical-align: top;\n",
       "    }\n",
       "\n",
       "    .dataframe thead th {\n",
       "        text-align: right;\n",
       "    }\n",
       "</style>\n",
       "<table border=\"1\" class=\"dataframe\">\n",
       "  <thead>\n",
       "    <tr style=\"text-align: right;\">\n",
       "      <th></th>\n",
       "      <th>Date</th>\n",
       "      <th>Open</th>\n",
       "      <th>High</th>\n",
       "      <th>Low</th>\n",
       "      <th>Close</th>\n",
       "      <th>Adj Close</th>\n",
       "      <th>Volume</th>\n",
       "    </tr>\n",
       "  </thead>\n",
       "  <tbody>\n",
       "    <tr>\n",
       "      <th>0</th>\n",
       "      <td>2016-10-14</td>\n",
       "      <td>29.469999</td>\n",
       "      <td>29.542500</td>\n",
       "      <td>29.282499</td>\n",
       "      <td>29.407499</td>\n",
       "      <td>27.579544</td>\n",
       "      <td>142608800</td>\n",
       "    </tr>\n",
       "    <tr>\n",
       "      <th>1</th>\n",
       "      <td>2016-10-17</td>\n",
       "      <td>29.332500</td>\n",
       "      <td>29.459999</td>\n",
       "      <td>29.195000</td>\n",
       "      <td>29.387501</td>\n",
       "      <td>27.560789</td>\n",
       "      <td>94499600</td>\n",
       "    </tr>\n",
       "    <tr>\n",
       "      <th>2</th>\n",
       "      <td>2016-10-18</td>\n",
       "      <td>29.545000</td>\n",
       "      <td>29.552500</td>\n",
       "      <td>29.362499</td>\n",
       "      <td>29.367500</td>\n",
       "      <td>27.542034</td>\n",
       "      <td>98214000</td>\n",
       "    </tr>\n",
       "    <tr>\n",
       "      <th>3</th>\n",
       "      <td>2016-10-19</td>\n",
       "      <td>29.312500</td>\n",
       "      <td>29.440001</td>\n",
       "      <td>28.450001</td>\n",
       "      <td>29.280001</td>\n",
       "      <td>27.459970</td>\n",
       "      <td>80138400</td>\n",
       "    </tr>\n",
       "    <tr>\n",
       "      <th>4</th>\n",
       "      <td>2016-10-20</td>\n",
       "      <td>29.215000</td>\n",
       "      <td>29.344999</td>\n",
       "      <td>29.082500</td>\n",
       "      <td>29.264999</td>\n",
       "      <td>27.445902</td>\n",
       "      <td>96503200</td>\n",
       "    </tr>\n",
       "    <tr>\n",
       "      <th>...</th>\n",
       "      <td>...</td>\n",
       "      <td>...</td>\n",
       "      <td>...</td>\n",
       "      <td>...</td>\n",
       "      <td>...</td>\n",
       "      <td>...</td>\n",
       "      <td>...</td>\n",
       "    </tr>\n",
       "    <tr>\n",
       "      <th>1253</th>\n",
       "      <td>2021-10-07</td>\n",
       "      <td>143.059998</td>\n",
       "      <td>144.220001</td>\n",
       "      <td>142.720001</td>\n",
       "      <td>143.289993</td>\n",
       "      <td>143.289993</td>\n",
       "      <td>61732700</td>\n",
       "    </tr>\n",
       "    <tr>\n",
       "      <th>1254</th>\n",
       "      <td>2021-10-08</td>\n",
       "      <td>144.029999</td>\n",
       "      <td>144.179993</td>\n",
       "      <td>142.559998</td>\n",
       "      <td>142.899994</td>\n",
       "      <td>142.899994</td>\n",
       "      <td>58718700</td>\n",
       "    </tr>\n",
       "    <tr>\n",
       "      <th>1255</th>\n",
       "      <td>2021-10-11</td>\n",
       "      <td>142.270004</td>\n",
       "      <td>144.809998</td>\n",
       "      <td>141.809998</td>\n",
       "      <td>142.809998</td>\n",
       "      <td>142.809998</td>\n",
       "      <td>64452200</td>\n",
       "    </tr>\n",
       "    <tr>\n",
       "      <th>1256</th>\n",
       "      <td>2021-10-12</td>\n",
       "      <td>143.229996</td>\n",
       "      <td>143.250000</td>\n",
       "      <td>141.039993</td>\n",
       "      <td>141.509995</td>\n",
       "      <td>141.509995</td>\n",
       "      <td>73035900</td>\n",
       "    </tr>\n",
       "    <tr>\n",
       "      <th>1257</th>\n",
       "      <td>2021-10-13</td>\n",
       "      <td>141.240005</td>\n",
       "      <td>141.399994</td>\n",
       "      <td>139.199997</td>\n",
       "      <td>140.910004</td>\n",
       "      <td>140.910004</td>\n",
       "      <td>78682300</td>\n",
       "    </tr>\n",
       "  </tbody>\n",
       "</table>\n",
       "<p>1258 rows × 7 columns</p>\n",
       "</div>"
      ],
      "text/plain": [
       "            Date        Open        High         Low       Close   Adj Close  \\\n",
       "0     2016-10-14   29.469999   29.542500   29.282499   29.407499   27.579544   \n",
       "1     2016-10-17   29.332500   29.459999   29.195000   29.387501   27.560789   \n",
       "2     2016-10-18   29.545000   29.552500   29.362499   29.367500   27.542034   \n",
       "3     2016-10-19   29.312500   29.440001   28.450001   29.280001   27.459970   \n",
       "4     2016-10-20   29.215000   29.344999   29.082500   29.264999   27.445902   \n",
       "...          ...         ...         ...         ...         ...         ...   \n",
       "1253  2021-10-07  143.059998  144.220001  142.720001  143.289993  143.289993   \n",
       "1254  2021-10-08  144.029999  144.179993  142.559998  142.899994  142.899994   \n",
       "1255  2021-10-11  142.270004  144.809998  141.809998  142.809998  142.809998   \n",
       "1256  2021-10-12  143.229996  143.250000  141.039993  141.509995  141.509995   \n",
       "1257  2021-10-13  141.240005  141.399994  139.199997  140.910004  140.910004   \n",
       "\n",
       "         Volume  \n",
       "0     142608800  \n",
       "1      94499600  \n",
       "2      98214000  \n",
       "3      80138400  \n",
       "4      96503200  \n",
       "...         ...  \n",
       "1253   61732700  \n",
       "1254   58718700  \n",
       "1255   64452200  \n",
       "1256   73035900  \n",
       "1257   78682300  \n",
       "\n",
       "[1258 rows x 7 columns]"
      ]
     },
     "execution_count": 25,
     "metadata": {},
     "output_type": "execute_result"
    }
   ],
   "source": [
    "AI_Stock"
   ]
  },
  {
   "cell_type": "code",
   "execution_count": 26,
   "id": "ab852402",
   "metadata": {},
   "outputs": [],
   "source": [
    "AI_Stock=AI_Stock.drop(['Date','Open','Close','Adj Close','Volume'],axis=1)"
   ]
  },
  {
   "cell_type": "code",
   "execution_count": 27,
   "id": "7353f58c",
   "metadata": {},
   "outputs": [
    {
     "data": {
      "text/html": [
       "<div>\n",
       "<style scoped>\n",
       "    .dataframe tbody tr th:only-of-type {\n",
       "        vertical-align: middle;\n",
       "    }\n",
       "\n",
       "    .dataframe tbody tr th {\n",
       "        vertical-align: top;\n",
       "    }\n",
       "\n",
       "    .dataframe thead th {\n",
       "        text-align: right;\n",
       "    }\n",
       "</style>\n",
       "<table border=\"1\" class=\"dataframe\">\n",
       "  <thead>\n",
       "    <tr style=\"text-align: right;\">\n",
       "      <th></th>\n",
       "      <th>High</th>\n",
       "      <th>Low</th>\n",
       "    </tr>\n",
       "  </thead>\n",
       "  <tbody>\n",
       "    <tr>\n",
       "      <th>0</th>\n",
       "      <td>29.542500</td>\n",
       "      <td>29.282499</td>\n",
       "    </tr>\n",
       "    <tr>\n",
       "      <th>1</th>\n",
       "      <td>29.459999</td>\n",
       "      <td>29.195000</td>\n",
       "    </tr>\n",
       "    <tr>\n",
       "      <th>2</th>\n",
       "      <td>29.552500</td>\n",
       "      <td>29.362499</td>\n",
       "    </tr>\n",
       "    <tr>\n",
       "      <th>3</th>\n",
       "      <td>29.440001</td>\n",
       "      <td>28.450001</td>\n",
       "    </tr>\n",
       "    <tr>\n",
       "      <th>4</th>\n",
       "      <td>29.344999</td>\n",
       "      <td>29.082500</td>\n",
       "    </tr>\n",
       "    <tr>\n",
       "      <th>...</th>\n",
       "      <td>...</td>\n",
       "      <td>...</td>\n",
       "    </tr>\n",
       "    <tr>\n",
       "      <th>1253</th>\n",
       "      <td>144.220001</td>\n",
       "      <td>142.720001</td>\n",
       "    </tr>\n",
       "    <tr>\n",
       "      <th>1254</th>\n",
       "      <td>144.179993</td>\n",
       "      <td>142.559998</td>\n",
       "    </tr>\n",
       "    <tr>\n",
       "      <th>1255</th>\n",
       "      <td>144.809998</td>\n",
       "      <td>141.809998</td>\n",
       "    </tr>\n",
       "    <tr>\n",
       "      <th>1256</th>\n",
       "      <td>143.250000</td>\n",
       "      <td>141.039993</td>\n",
       "    </tr>\n",
       "    <tr>\n",
       "      <th>1257</th>\n",
       "      <td>141.399994</td>\n",
       "      <td>139.199997</td>\n",
       "    </tr>\n",
       "  </tbody>\n",
       "</table>\n",
       "<p>1258 rows × 2 columns</p>\n",
       "</div>"
      ],
      "text/plain": [
       "            High         Low\n",
       "0      29.542500   29.282499\n",
       "1      29.459999   29.195000\n",
       "2      29.552500   29.362499\n",
       "3      29.440001   28.450001\n",
       "4      29.344999   29.082500\n",
       "...          ...         ...\n",
       "1253  144.220001  142.720001\n",
       "1254  144.179993  142.559998\n",
       "1255  144.809998  141.809998\n",
       "1256  143.250000  141.039993\n",
       "1257  141.399994  139.199997\n",
       "\n",
       "[1258 rows x 2 columns]"
      ]
     },
     "execution_count": 27,
     "metadata": {},
     "output_type": "execute_result"
    }
   ],
   "source": [
    "AI_Stock"
   ]
  },
  {
   "cell_type": "code",
   "execution_count": 28,
   "id": "703a8986",
   "metadata": {},
   "outputs": [],
   "source": [
    "x = AI_Stock.iloc[::,0]"
   ]
  },
  {
   "cell_type": "code",
   "execution_count": 29,
   "id": "c1bc5886",
   "metadata": {},
   "outputs": [
    {
     "data": {
      "text/plain": [
       "0        29.542500\n",
       "1        29.459999\n",
       "2        29.552500\n",
       "3        29.440001\n",
       "4        29.344999\n",
       "           ...    \n",
       "1253    144.220001\n",
       "1254    144.179993\n",
       "1255    144.809998\n",
       "1256    143.250000\n",
       "1257    141.399994\n",
       "Name: High, Length: 1258, dtype: float64"
      ]
     },
     "execution_count": 29,
     "metadata": {},
     "output_type": "execute_result"
    }
   ],
   "source": [
    "x"
   ]
  },
  {
   "cell_type": "code",
   "execution_count": 30,
   "id": "e81a78b0",
   "metadata": {},
   "outputs": [
    {
     "data": {
      "text/plain": [
       "(1258,)"
      ]
     },
     "execution_count": 30,
     "metadata": {},
     "output_type": "execute_result"
    }
   ],
   "source": [
    "x.shape"
   ]
  },
  {
   "cell_type": "code",
   "execution_count": 31,
   "id": "c6db8edf",
   "metadata": {},
   "outputs": [],
   "source": [
    "x = AI_Stock.iloc[:,0].values.reshape(-1,1)"
   ]
  },
  {
   "cell_type": "code",
   "execution_count": 32,
   "id": "62922a1f",
   "metadata": {},
   "outputs": [
    {
     "data": {
      "text/plain": [
       "array([[ 29.5425  ],\n",
       "       [ 29.459999],\n",
       "       [ 29.5525  ],\n",
       "       ...,\n",
       "       [144.809998],\n",
       "       [143.25    ],\n",
       "       [141.399994]])"
      ]
     },
     "execution_count": 32,
     "metadata": {},
     "output_type": "execute_result"
    }
   ],
   "source": [
    "x"
   ]
  },
  {
   "cell_type": "code",
   "execution_count": 33,
   "id": "9e513c29",
   "metadata": {},
   "outputs": [],
   "source": [
    "y = AI_Stock.iloc[:,1].values.reshape(-1,1)"
   ]
  },
  {
   "cell_type": "code",
   "execution_count": 34,
   "id": "2b87be3b",
   "metadata": {},
   "outputs": [
    {
     "data": {
      "text/plain": [
       "array([[ 29.282499],\n",
       "       [ 29.195   ],\n",
       "       [ 29.362499],\n",
       "       ...,\n",
       "       [141.809998],\n",
       "       [141.039993],\n",
       "       [139.199997]])"
      ]
     },
     "execution_count": 34,
     "metadata": {},
     "output_type": "execute_result"
    }
   ],
   "source": [
    "y"
   ]
  },
  {
   "cell_type": "code",
   "execution_count": 35,
   "id": "02e23cf6",
   "metadata": {},
   "outputs": [
    {
     "data": {
      "image/png": "[encoded data removed]",
      "text/plain": [
       "<Figure size 432x288 with 1 Axes>"
      ]
     },
     "metadata": {
      "needs_background": "light"
     },
     "output_type": "display_data"
    }
   ],
   "source": [
    "plt.scatter(x,y)\n",
    "plt.show()"
   ]
  },
  {
   "cell_type": "code",
   "execution_count": 36,
   "id": "1a4739e0",
   "metadata": {},
   "outputs": [],
   "source": [
    "from sklearn.linear_model import LinearRegression\n",
    "linear_reg = LinearRegression()  \n",
    "linear_reg.fit(x, y)  \n",
    "Y_prediction = linear_reg.predict(x)"
   ]
  },
  {
   "cell_type": "code",
   "execution_count": 37,
   "id": "4bd6734f",
   "metadata": {},
   "outputs": [
    {
     "data": {
      "image/png": "[encoded data removed]",
      "text/plain": [
       "<Figure size 432x288 with 1 Axes>"
      ]
     },
     "metadata": {
      "needs_background": "light"
     },
     "output_type": "display_data"
    }
   ],
   "source": [
    "plt.scatter(x, y ,color='green')\n",
    "plt.plot(x, Y_prediction, color='red')\n",
    "plt.show()"
   ]
  }
 ],
 "metadata": {
  "kernelspec": {
   "display_name": "Python 3",
   "language": "python",
   "name": "python3"
  },
  "language_info": {
   "codemirror_mode": {
    "name": "ipython",
    "version": 3
   },
   "file_extension": ".py",
   "mimetype": "text/x-python",
   "name": "python",
   "nbconvert_exporter": "python",
   "pygments_lexer": "ipython3",
   "version": "3.8.8"
  }
 },
 "nbformat": 4,
 "nbformat_minor": 5
}
